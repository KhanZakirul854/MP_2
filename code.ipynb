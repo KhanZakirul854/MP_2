{
 "cells": [
  {
   "cell_type": "code",
   "execution_count": 2,
   "metadata": {},
   "outputs": [],
   "source": [
    "import sqlite3\n",
    "import pandas as pd"
   ]
  },
  {
   "cell_type": "code",
   "execution_count": 2,
   "metadata": {},
   "outputs": [
    {
     "name": "stdout",
     "output_type": "stream",
     "text": [
      "Shape: (307645, 9)\n",
      "Rows: 307645\n",
      "Columns: 9\n"
     ]
    }
   ],
   "source": [
    "df = pd.read_csv(\"Warehouse_and_Retail_Sales.csv\")\n",
    "print(\"Shape:\", df.shape)  # (rows, columns)\n",
    "print(\"Rows:\", df.shape[0])\n",
    "print(\"Columns:\", df.shape[1])"
   ]
  },
  {
   "cell_type": "code",
   "execution_count": 3,
   "metadata": {},
   "outputs": [
    {
     "name": "stdout",
     "output_type": "stream",
     "text": [
      "   YEAR  MONTH                           SUPPLIER ITEM CODE  \\\n",
      "0  2020      1  REPUBLIC NATIONAL DISTRIBUTING CO    100009   \n",
      "1  2020      1                          PWSWN INC    100024   \n",
      "2  2020      1            RELIABLE CHURCHILL LLLP      1001   \n",
      "3  2020      1          LANTERNA DISTRIBUTORS INC    100145   \n",
      "4  2020      1               DIONYSOS IMPORTS INC    100293   \n",
      "\n",
      "                      ITEM DESCRIPTION ITEM TYPE  RETAIL SALES  \\\n",
      "0                  BOOTLEG RED - 750ML      WINE          0.00   \n",
      "1            MOMENT DE PLAISIR - 750ML      WINE          0.00   \n",
      "2  S SMITH ORGANIC PEAR CIDER - 18.7OZ      BEER          0.00   \n",
      "3        SCHLINK HAUS KABINETT - 750ML      WINE          0.00   \n",
      "4       SANTORINI GAVALA WHITE - 750ML      WINE          0.82   \n",
      "\n",
      "   RETAIL TRANSFERS  WAREHOUSE SALES  \n",
      "0               0.0              2.0  \n",
      "1               1.0              4.0  \n",
      "2               0.0              1.0  \n",
      "3               0.0              1.0  \n",
      "4               0.0              0.0  \n"
     ]
    }
   ],
   "source": [
    "df = pd.read_csv(\"Warehouse_and_Retail_Sales.csv\")\n",
    "\n",
    "# Display the first 5 rows\n",
    "print(df.head())"
   ]
  },
  {
   "cell_type": "code",
   "execution_count": 4,
   "metadata": {},
   "outputs": [
    {
     "name": "stdout",
     "output_type": "stream",
     "text": [
      "YEAR                  0\n",
      "MONTH                 0\n",
      "SUPPLIER            167\n",
      "ITEM CODE             0\n",
      "ITEM DESCRIPTION      0\n",
      "ITEM TYPE             1\n",
      "RETAIL SALES          3\n",
      "RETAIL TRANSFERS      0\n",
      "WAREHOUSE SALES       0\n",
      "dtype: int64\n"
     ]
    }
   ],
   "source": [
    "df = pd.read_csv(\"Warehouse_and_Retail_Sales.csv\")\n",
    "\n",
    "# Display a summary of missing values per column\n",
    "missing_values = df.isnull().sum()\n",
    "print(missing_values)"
   ]
  },
  {
   "cell_type": "code",
   "execution_count": 5,
   "metadata": {},
   "outputs": [
    {
     "name": "stdout",
     "output_type": "stream",
     "text": [
      "After cleaning, shape: (307477, 9)\n",
      "\n",
      "Remaining missing values:\n",
      " YEAR                0\n",
      "MONTH               0\n",
      "SUPPLIER            0\n",
      "ITEM CODE           0\n",
      "ITEM DESCRIPTION    0\n",
      "ITEM TYPE           0\n",
      "RETAIL SALES        0\n",
      "RETAIL TRANSFERS    0\n",
      "WAREHOUSE SALES     0\n",
      "dtype: int64\n"
     ]
    }
   ],
   "source": [
    "# Drop rows with missing supplier, item type, or retail sales\n",
    "df_cleaned = df.dropna(subset=['SUPPLIER', 'ITEM TYPE', 'RETAIL SALES']).reset_index(drop=True)\n",
    "\n",
    "# Check new shape\n",
    "print(\"After cleaning, shape:\", df_cleaned.shape)\n",
    "\n",
    "# Optional: Confirm no missing values remain\n",
    "print(\"\\nRemaining missing values:\\n\", df_cleaned.isnull().sum())"
   ]
  },
  {
   "cell_type": "code",
   "execution_count": 6,
   "metadata": {},
   "outputs": [
    {
     "name": "stdout",
     "output_type": "stream",
     "text": [
      "Raw table 'RawSales' written to SQLite DB.\n"
     ]
    }
   ],
   "source": [
    "# Step 1: Load the CSV\n",
    "df = pd.read_csv(\"Warehouse_and_Retail_Sales.csv\")\n",
    "\n",
    "# Step 2: Drop missing values (same as before)\n",
    "df_cleaned = df.dropna(subset=['SUPPLIER', 'ITEM TYPE', 'RETAIL SALES']).reset_index(drop=True)\n",
    "\n",
    "# Step 3: Connect to SQLite database (creates one if not exists)\n",
    "conn = sqlite3.connect(\"warehouse_sales.db\")\n",
    "\n",
    "# Step 4: Write the cleaned dataframe into a raw table\n",
    "df_cleaned.to_sql(\"RawSales\", conn, if_exists=\"replace\", index=False)\n",
    "\n",
    "# Confirm\n",
    "print(\"Raw table 'RawSales' written to SQLite DB.\")"
   ]
  },
  {
   "cell_type": "code",
   "execution_count": 2,
   "metadata": {},
   "outputs": [
    {
     "name": "stdout",
     "output_type": "stream",
     "text": [
      "Tables in database:\n",
      "RawSales\n",
      "Suppliers\n",
      "sqlite_sequence\n",
      "ItemTypes\n",
      "Items\n"
     ]
    }
   ],
   "source": [
    "db_path = '/Users/khanzakirul/Documents/EAS 503/MP2_new/warehouse_sales.db'\n",
    "conn = sqlite3.connect(db_path)\n",
    "cursor = conn.cursor()\n",
    "\n",
    "# Query to list all tables\n",
    "cursor.execute(\"SELECT name FROM sqlite_master WHERE type='table';\")\n",
    "tables = cursor.fetchall()\n",
    "\n",
    "# Print the tables\n",
    "print(\"Tables in database:\")\n",
    "for table in tables:\n",
    "    print(table[0])"
   ]
  },
  {
   "cell_type": "code",
   "execution_count": 3,
   "metadata": {},
   "outputs": [
    {
     "name": "stdout",
     "output_type": "stream",
     "text": [
      "Columns in RawSales:\n",
      "YEAR\n",
      "MONTH\n",
      "SUPPLIER\n",
      "ITEM CODE\n",
      "ITEM DESCRIPTION\n",
      "ITEM TYPE\n",
      "RETAIL SALES\n",
      "RETAIL TRANSFERS\n",
      "WAREHOUSE SALES\n"
     ]
    }
   ],
   "source": [
    "cursor.execute(\"PRAGMA table_info(RawSales);\")\n",
    "columns = cursor.fetchall()\n",
    "\n",
    "# Print column names\n",
    "print(\"Columns in RawSales:\")\n",
    "for col in columns:\n",
    "    print(col[1])"
   ]
  },
  {
   "cell_type": "code",
   "execution_count": 4,
   "metadata": {},
   "outputs": [
    {
     "name": "stdout",
     "output_type": "stream",
     "text": [
      "✅ Table 'Suppliers' created.\n",
      "Unique suppliers inserted.\n",
      "Preview of 'Suppliers' table:\n",
      "   supplier_id                      supplier_name\n",
      "0            1  REPUBLIC NATIONAL DISTRIBUTING CO\n",
      "1            2                          PWSWN INC\n",
      "2            3            RELIABLE CHURCHILL LLLP\n",
      "3            4          LANTERNA DISTRIBUTORS INC\n",
      "4            5               DIONYSOS IMPORTS INC\n"
     ]
    }
   ],
   "source": [
    "db_path = '/Users/khanzakirul/Documents/EAS 503/MP2_new/warehouse_sales.db'\n",
    "conn = sqlite3.connect(db_path)\n",
    "cursor = conn.cursor()\n",
    "\n",
    "# --- 1. Drop and Create Suppliers Table ---\n",
    "cursor.execute(\"DROP TABLE IF EXISTS Suppliers;\")\n",
    "cursor.execute(\"\"\"\n",
    "CREATE TABLE Suppliers (\n",
    "    supplier_id INTEGER PRIMARY KEY AUTOINCREMENT,\n",
    "    supplier_name TEXT UNIQUE\n",
    ");\n",
    "\"\"\")\n",
    "print(\"✅ Table 'Suppliers' created.\")\n",
    "\n",
    "# --- 2. Insert Unique Supplier Names from RawSales ---\n",
    "cursor.execute(\"\"\"\n",
    "INSERT INTO Suppliers (supplier_name)\n",
    "SELECT DISTINCT SUPPLIER\n",
    "FROM RawSales\n",
    "WHERE SUPPLIER IS NOT NULL;\n",
    "\"\"\")\n",
    "conn.commit()\n",
    "print(\"Unique suppliers inserted.\")\n",
    "\n",
    "# --- 3. Preview the Table ---\n",
    "suppliers_df = pd.read_sql_query(\"SELECT * FROM Suppliers LIMIT 5;\", conn)\n",
    "print(\"Preview of 'Suppliers' table:\")\n",
    "print(suppliers_df)\n",
    "\n",
    "# --- 4. Close connection ---\n",
    "conn.close()"
   ]
  },
  {
   "cell_type": "code",
   "execution_count": 5,
   "metadata": {},
   "outputs": [
    {
     "name": "stdout",
     "output_type": "stream",
     "text": [
      "Table 'ItemTypes' created.\n",
      "Unique item types inserted.\n",
      "Preview of 'ItemTypes' table:\n",
      "   type_id     item_type\n",
      "0        1          WINE\n",
      "1        2          BEER\n",
      "2        3        LIQUOR\n",
      "3        4  STR_SUPPLIES\n",
      "4        5          KEGS\n"
     ]
    }
   ],
   "source": [
    "db_path = '/Users/khanzakirul/Documents/EAS 503/MP2_new/warehouse_sales.db'\n",
    "conn = sqlite3.connect(db_path)\n",
    "cursor = conn.cursor()\n",
    "\n",
    "# --- 1. Drop and Create ItemTypes Table ---\n",
    "cursor.execute(\"DROP TABLE IF EXISTS ItemTypes;\")\n",
    "cursor.execute(\"\"\"\n",
    "CREATE TABLE ItemTypes (\n",
    "    type_id INTEGER PRIMARY KEY AUTOINCREMENT,\n",
    "    item_type TEXT UNIQUE\n",
    ");\n",
    "\"\"\")\n",
    "print(\"Table 'ItemTypes' created.\")\n",
    "\n",
    "# --- 2. Insert Unique Item Types from RawSales ---\n",
    "cursor.execute(\"\"\"\n",
    "INSERT INTO ItemTypes (item_type)\n",
    "SELECT DISTINCT [ITEM TYPE]\n",
    "FROM RawSales\n",
    "WHERE [ITEM TYPE] IS NOT NULL;\n",
    "\"\"\")\n",
    "conn.commit()\n",
    "print(\"Unique item types inserted.\")\n",
    "\n",
    "# --- 3. Preview the Table ---\n",
    "itemtypes_df = pd.read_sql_query(\"SELECT * FROM ItemTypes LIMIT 5;\", conn)\n",
    "print(\"Preview of 'ItemTypes' table:\")\n",
    "print(itemtypes_df)\n",
    "\n",
    "# --- 4. Close connection ---\n",
    "conn.close()"
   ]
  },
  {
   "cell_type": "code",
   "execution_count": 14,
   "metadata": {},
   "outputs": [
    {
     "name": "stdout",
     "output_type": "stream",
     "text": [
      "Conflicting ITEM CODEs:\n",
      "  ITEM CODE  desc_count  type_count\n",
      "0      1001           2           1\n",
      "1    101664           2           1\n",
      "2     10356           2           1\n",
      "3     10431           2           1\n",
      "4     10444           2           1\n",
      "Total conflicts found: 1021\n"
     ]
    }
   ],
   "source": [
    "# Check for item codes that map to more than one description or item type\n",
    "conflicts_df = pd.read_sql_query(\"\"\"\n",
    "SELECT [ITEM CODE], COUNT(DISTINCT [ITEM DESCRIPTION]) AS desc_count, COUNT(DISTINCT [ITEM TYPE]) AS type_count\n",
    "FROM RawSales\n",
    "GROUP BY [ITEM CODE]\n",
    "HAVING desc_count > 1 OR type_count > 1;\n",
    "\"\"\", conn)\n",
    "\n",
    "print(\"Conflicting ITEM CODEs:\")\n",
    "print(conflicts_df.head())\n",
    "print(\"Total conflicts found:\", len(conflicts_df))\n",
    "conn.close()"
   ]
  },
  {
   "cell_type": "code",
   "execution_count": 3,
   "metadata": {},
   "outputs": [
    {
     "name": "stdout",
     "output_type": "stream",
     "text": [
      "Table 'Items' created.\n",
      "Unique items inserted.\n",
      "Preview of 'Items' table:\n",
      "  item_code                     item_description  type_id\n",
      "0    100002       PATRON TEQUILA SILVER LTD - 1L        3\n",
      "1    100007            LA CETTO CAB SAUV - 750ML        1\n",
      "2    100008  AMITY VINEYARDS P/NOIR 2013 - 750ML        1\n",
      "3    100009                  BOOTLEG RED - 750ML        1\n",
      "4    100011                   PAPI P/GRIG - 1.5L        1\n"
     ]
    }
   ],
   "source": [
    "db_path = '/Users/khanzakirul/Documents/EAS 503/MP2_new/warehouse_sales.db'\n",
    "conn = sqlite3.connect(db_path)\n",
    "cursor = conn.cursor()\n",
    "\n",
    "# --- 1. Drop and Create Items Table with Composite PK ---\n",
    "cursor.execute(\"DROP TABLE IF EXISTS Items;\")\n",
    "cursor.execute(\"\"\"\n",
    "CREATE TABLE Items (\n",
    "    item_code TEXT,\n",
    "    item_description TEXT,\n",
    "    type_id INTEGER,\n",
    "    PRIMARY KEY (item_code, item_description),\n",
    "    FOREIGN KEY(type_id) REFERENCES ItemTypes(type_id)\n",
    ");\n",
    "\"\"\")\n",
    "print(\"Table 'Items' created.\")\n",
    "\n",
    "# --- 2. Insert Unique Items without violating PK constraints ---\n",
    "cursor.execute(\"\"\"\n",
    "INSERT INTO Items (item_code, item_description, type_id)\n",
    "SELECT item_code, item_description, type_id\n",
    "FROM (\n",
    "    SELECT \n",
    "        rs.[ITEM CODE] AS item_code,\n",
    "        rs.[ITEM DESCRIPTION] AS item_description,\n",
    "        it.type_id,\n",
    "        ROW_NUMBER() OVER (\n",
    "            PARTITION BY rs.[ITEM CODE], rs.[ITEM DESCRIPTION]\n",
    "            ORDER BY COUNT(*) DESC\n",
    "        ) as rn\n",
    "    FROM RawSales rs\n",
    "    JOIN ItemTypes it ON rs.[ITEM TYPE] = it.item_type\n",
    "    GROUP BY rs.[ITEM CODE], rs.[ITEM DESCRIPTION], it.type_id\n",
    ")\n",
    "WHERE rn = 1;\n",
    "\"\"\")\n",
    "conn.commit()\n",
    "print(\"Unique items inserted.\")\n",
    "\n",
    "# --- 3. Preview the Table ---\n",
    "items_df = pd.read_sql_query(\"SELECT * FROM Items LIMIT 5;\", conn)\n",
    "print(\"Preview of 'Items' table:\")\n",
    "print(items_df)\n",
    "\n",
    "# --- 4. Close connection ---\n",
    "conn.close()"
   ]
  },
  {
   "cell_type": "code",
   "execution_count": 4,
   "metadata": {},
   "outputs": [
    {
     "name": "stdout",
     "output_type": "stream",
     "text": [
      "Table 'Sales' created.\n",
      "Sales data inserted.\n",
      "Preview of 'Sales' table:\n",
      "   sale_id  year  month item_code                     item_description  \\\n",
      "0        1  2020      1    100009                  BOOTLEG RED - 750ML   \n",
      "1        2  2020      1    100024            MOMENT DE PLAISIR - 750ML   \n",
      "2        3  2020      1      1001  S SMITH ORGANIC PEAR CIDER - 18.7OZ   \n",
      "3        4  2020      1    100145        SCHLINK HAUS KABINETT - 750ML   \n",
      "4        5  2020      1    100293       SANTORINI GAVALA WHITE - 750ML   \n",
      "\n",
      "   supplier_id  retail_sales  retail_transfers  warehouse_sales  \n",
      "0            1          0.00               0.0              2.0  \n",
      "1            2          0.00               1.0              4.0  \n",
      "2            3          0.00               0.0              1.0  \n",
      "3            4          0.00               0.0              1.0  \n",
      "4            5          0.82               0.0              0.0  \n"
     ]
    }
   ],
   "source": [
    "# Reconnect\n",
    "db_path = '/Users/khanzakirul/Documents/EAS 503/MP2_new/warehouse_sales.db'\n",
    "conn = sqlite3.connect(db_path)\n",
    "cursor = conn.cursor()\n",
    "\n",
    "# --- 1. Drop and Create Sales Table ---\n",
    "cursor.execute(\"DROP TABLE IF EXISTS Sales;\")\n",
    "cursor.execute(\"\"\"\n",
    "CREATE TABLE Sales (\n",
    "    sale_id INTEGER PRIMARY KEY AUTOINCREMENT,\n",
    "    year INTEGER,\n",
    "    month INTEGER,\n",
    "    item_code TEXT,\n",
    "    item_description TEXT,\n",
    "    supplier_id INTEGER,\n",
    "    retail_sales REAL,\n",
    "    retail_transfers REAL,\n",
    "    warehouse_sales REAL,\n",
    "    FOREIGN KEY(item_code, item_description) REFERENCES Items(item_code, item_description),\n",
    "    FOREIGN KEY(supplier_id) REFERENCES Suppliers(supplier_id)\n",
    ");\n",
    "\"\"\")\n",
    "print(\"Table 'Sales' created.\")\n",
    "\n",
    "# --- 2. Insert Data from RawSales with JOINs to foreign keys ---\n",
    "cursor.execute(\"\"\"\n",
    "INSERT INTO Sales (\n",
    "    year, month, item_code, item_description, supplier_id,\n",
    "    retail_sales, retail_transfers, warehouse_sales\n",
    ")\n",
    "SELECT\n",
    "    rs.YEAR,\n",
    "    rs.MONTH,\n",
    "    rs.[ITEM CODE],\n",
    "    rs.[ITEM DESCRIPTION],\n",
    "    s.supplier_id,\n",
    "    rs.[RETAIL SALES],\n",
    "    rs.[RETAIL TRANSFERS],\n",
    "    rs.[WAREHOUSE SALES]\n",
    "FROM RawSales rs\n",
    "JOIN Suppliers s ON rs.SUPPLIER = s.supplier_name\n",
    "JOIN Items i ON rs.[ITEM CODE] = i.item_code AND rs.[ITEM DESCRIPTION] = i.item_description;\n",
    "\"\"\")\n",
    "conn.commit()\n",
    "print(\"Sales data inserted.\")\n",
    "\n",
    "# --- 3. Preview the Table ---\n",
    "sales_df = pd.read_sql_query(\"SELECT * FROM Sales LIMIT 5;\", conn)\n",
    "print(\"Preview of 'Sales' table:\")\n",
    "print(sales_df)\n",
    "\n",
    "# --- 4. Close connection ---\n",
    "conn.close()"
   ]
  },
  {
   "cell_type": "code",
   "execution_count": 5,
   "metadata": {},
   "outputs": [
    {
     "name": "stdout",
     "output_type": "stream",
     "text": [
      "TABLE SUMMARY\n",
      "--------------------------------------------------\n",
      "Table: RawSales\n",
      " - Rows: 307477\n",
      " - Columns (9): ['YEAR', 'MONTH', 'SUPPLIER', 'ITEM CODE', 'ITEM DESCRIPTION', 'ITEM TYPE', 'RETAIL SALES', 'RETAIL TRANSFERS', 'WAREHOUSE SALES']\n",
      "\n",
      "Table: sqlite_sequence\n",
      " - Rows: 3\n",
      " - Columns (2): ['name', 'seq']\n",
      "\n",
      "Table: Suppliers\n",
      " - Rows: 396\n",
      " - Columns (2): ['supplier_id', 'supplier_name']\n",
      "\n",
      "Table: ItemTypes\n",
      " - Rows: 8\n",
      " - Columns (2): ['type_id', 'item_type']\n",
      "\n",
      "Table: Items\n",
      " - Rows: 35122\n",
      " - Columns (3): ['item_code', 'item_description', 'type_id']\n",
      "\n",
      "Table: Sales\n",
      " - Rows: 307477\n",
      " - Columns (9): ['sale_id', 'year', 'month', 'item_code', 'item_description', 'supplier_id', 'retail_sales', 'retail_transfers', 'warehouse_sales']\n",
      "\n"
     ]
    }
   ],
   "source": [
    "db_path = '/Users/khanzakirul/Documents/EAS 503/MP2_new/warehouse_sales.db'\n",
    "conn = sqlite3.connect(db_path)\n",
    "cursor = conn.cursor()\n",
    "\n",
    "# Step 1: List all table names\n",
    "cursor.execute(\"SELECT name FROM sqlite_master WHERE type='table';\")\n",
    "tables = [row[0] for row in cursor.fetchall()]\n",
    "\n",
    "# Step 2: Print dimensions and column names\n",
    "print(\"TABLE SUMMARY\\n\" + \"-\"*50)\n",
    "for table in tables:\n",
    "    df = pd.read_sql_query(f\"SELECT * FROM {table} LIMIT 5;\", conn)\n",
    "    total_rows = pd.read_sql_query(f\"SELECT COUNT(*) as count FROM {table};\", conn)['count'][0]\n",
    "    print(f\"Table: {table}\")\n",
    "    print(f\" - Rows: {total_rows}\")\n",
    "    print(f\" - Columns ({len(df.columns)}): {list(df.columns)}\\n\")\n",
    "\n",
    "# Close connection\n",
    "conn.close()"
   ]
  },
  {
   "cell_type": "code",
   "execution_count": 6,
   "metadata": {},
   "outputs": [
    {
     "name": "stdout",
     "output_type": "stream",
     "text": [
      "Earliest date: 2017-01\n",
      "Latest date:   2020-12\n"
     ]
    }
   ],
   "source": [
    "\n",
    "# Reconnect to the database\n",
    "db_path = '/Users/khanzakirul/Documents/EAS 503/MP2_new/warehouse_sales.db'\n",
    "conn = sqlite3.connect(db_path)\n",
    "cursor = conn.cursor()\n",
    "\n",
    "# Check earliest and latest year/month\n",
    "cursor.execute(\"\"\"\n",
    "SELECT \n",
    "    MIN(year) AS earliest_year,\n",
    "    MIN(month) AS earliest_month,\n",
    "    MAX(year) AS latest_year,\n",
    "    MAX(month) AS latest_month\n",
    "FROM Sales;\n",
    "\"\"\")\n",
    "\n",
    "date_range = cursor.fetchone()\n",
    "conn.close()\n",
    "\n",
    "print(f\"Earliest date: {date_range[0]}-{str(date_range[1]).zfill(2)}\")\n",
    "print(f\"Latest date:   {date_range[2]}-{str(date_range[3]).zfill(2)}\")\n",
    "\n",
    "conn.close()"
   ]
  },
  {
   "cell_type": "code",
   "execution_count": 18,
   "metadata": {},
   "outputs": [
    {
     "name": "stdout",
     "output_type": "stream",
     "text": [
      "Question 1: Total Retail Sales by Item Type (Over Time)\n",
      "      item_type  total_retail_sales\n",
      "0        LIQUOR           802730.17\n",
      "1          WINE           746402.40\n",
      "2          BEER           574274.46\n",
      "3   NON-ALCOHOL            27153.83\n",
      "4  STR_SUPPLIES             2235.54\n",
      "5           REF              662.99\n",
      "6          KEGS                0.00\n",
      "7       DUNNAGE                0.00\n"
     ]
    }
   ],
   "source": [
    "# Question 1: Which item types generated the highest total retail sales over time?\n",
    "\n",
    "# Connect to the database\n",
    "db_path = '/Users/khanzakirul/Documents/EAS 503/MP2_new/warehouse_sales.db'\n",
    "conn = sqlite3.connect(db_path)\n",
    "cursor = conn.cursor()\n",
    "\n",
    "# Execute SQL query using JOINs to get total retail sales by item type\n",
    "cursor.execute(\"\"\"\n",
    "SELECT \n",
    "    it.item_type,\n",
    "    ROUND(SUM(s.retail_sales), 2) AS total_retail_sales\n",
    "FROM Sales s\n",
    "JOIN Items i \n",
    "    ON s.item_code = i.item_code AND s.item_description = i.item_description\n",
    "JOIN ItemTypes it \n",
    "    ON i.type_id = it.type_id\n",
    "GROUP BY it.item_type\n",
    "ORDER BY total_retail_sales DESC;\n",
    "\"\"\")\n",
    "\n",
    "# Fetch and convert to DataFrame\n",
    "rows = cursor.fetchall()\n",
    "columns = [desc[0] for desc in cursor.description]\n",
    "q1_result = pd.DataFrame(rows, columns=columns)\n",
    "\n",
    "# Display result\n",
    "print(\"Question 1: Total Retail Sales by Item Type (Over Time)\")\n",
    "print(q1_result)\n",
    "\n",
    "# Close connection\n",
    "conn.close()"
   ]
  },
  {
   "cell_type": "code",
   "execution_count": 19,
   "metadata": {},
   "outputs": [
    {
     "name": "stdout",
     "output_type": "stream",
     "text": [
      "Pandas result for Question 1: Total Retail Sales by Item Type Over Time\n",
      "      item_type  retail_sales\n",
      "0        LIQUOR     802730.17\n",
      "1          WINE     746402.40\n",
      "2          BEER     574274.46\n",
      "3   NON-ALCOHOL      27153.83\n",
      "4  STR_SUPPLIES       2235.54\n",
      "5           REF        662.99\n",
      "6       DUNNAGE          0.00\n",
      "7          KEGS          0.00\n"
     ]
    }
   ],
   "source": [
    "# Pandas version of Question 1: Total retail sales by item type (2017–2020)\n",
    "\n",
    "import sqlite3\n",
    "import pandas as pd\n",
    "\n",
    "# Reconnect to your database (if not already connected)\n",
    "db_path = '/Users/khanzakirul/Documents/EAS 503/MP2_new/warehouse_sales.db'\n",
    "conn = sqlite3.connect(db_path)\n",
    "\n",
    "# Load the necessary tables into DataFrames\n",
    "sales_df = pd.read_sql_query(\"SELECT * FROM Sales;\", conn)\n",
    "items_df = pd.read_sql_query(\"SELECT * FROM Items;\", conn)\n",
    "itemtypes_df = pd.read_sql_query(\"SELECT * FROM ItemTypes;\", conn)\n",
    "\n",
    "# Merge: Sales → Items → ItemTypes\n",
    "merged_df = (\n",
    "    sales_df\n",
    "    .merge(items_df, on=['item_code', 'item_description'], how='left')\n",
    "    .merge(itemtypes_df, on='type_id', how='left')\n",
    ")\n",
    "\n",
    "# Group and aggregate\n",
    "q1_pandas = (\n",
    "    merged_df\n",
    "    .groupby('item_type')['retail_sales']\n",
    "    .sum()\n",
    "    .round(2)\n",
    "    .sort_values(ascending=False)\n",
    "    .reset_index()\n",
    ")\n",
    "\n",
    "# Display result\n",
    "print(\"Pandas result for Question 1: Total Retail Sales by Item Type Over Time\")\n",
    "print(q1_pandas)\n",
    "\n",
    "# Close connection\n",
    "conn.close()"
   ]
  },
  {
   "cell_type": "code",
   "execution_count": 17,
   "metadata": {},
   "outputs": [
    {
     "name": "stdout",
     "output_type": "stream",
     "text": [
      "Question 2: Top 10 Suppliers by Retail Sales (All Time)\n",
      "              supplier_name  total_retail_sales\n",
      "0        E & J GALLO WINERY           166170.53\n",
      "1  DIAGEO NORTH AMERICA INC           145343.20\n",
      "2      CONSTELLATION BRANDS           131664.79\n",
      "3        ANHEUSER BUSCH INC           109960.82\n",
      "4        JIM BEAM BRANDS CO            96164.04\n",
      "5    MILLER BREWING COMPANY            87156.44\n",
      "6             CROWN IMPORTS            84437.66\n",
      "7                SAZERAC CO            70414.62\n",
      "8           BACARDI USA INC            66610.23\n",
      "9            THE WINE GROUP            64270.04\n"
     ]
    }
   ],
   "source": [
    "# Question 2: Which suppliers generated the highest total retail sales over time?\n",
    "\n",
    "# Connect to the database\n",
    "db_path = '/Users/khanzakirul/Documents/EAS 503/MP2_new/warehouse_sales.db'\n",
    "conn = sqlite3.connect(db_path)\n",
    "cursor = conn.cursor()\n",
    "\n",
    "# Execute the SQL query\n",
    "cursor.execute(\"\"\"\n",
    "SELECT \n",
    "    s.supplier_name,\n",
    "    ROUND(SUM(sa.retail_sales), 2) AS total_retail_sales\n",
    "FROM Sales sa\n",
    "JOIN Suppliers s ON sa.supplier_id = s.supplier_id\n",
    "GROUP BY s.supplier_name\n",
    "ORDER BY total_retail_sales DESC\n",
    "LIMIT 10;\n",
    "\"\"\")\n",
    "\n",
    "# Fetch and convert to DataFrame\n",
    "rows = cursor.fetchall()\n",
    "columns = [desc[0] for desc in cursor.description]\n",
    "q2_result = pd.DataFrame(rows, columns=columns)\n",
    "\n",
    "# Display result\n",
    "print(\"Question 2: Top 10 Suppliers by Retail Sales (All Time)\")\n",
    "print(q2_result)\n",
    "\n",
    "# Close connection\n",
    "conn.close()"
   ]
  },
  {
   "cell_type": "code",
   "execution_count": 10,
   "metadata": {},
   "outputs": [
    {
     "name": "stdout",
     "output_type": "stream",
     "text": [
      "Pandas result for Question 2: Top 10 Suppliers by Retail Sales (All Time)\n",
      "              supplier_name  retail_sales\n",
      "0        E & J GALLO WINERY     166170.53\n",
      "1  DIAGEO NORTH AMERICA INC     145343.20\n",
      "2      CONSTELLATION BRANDS     131664.79\n",
      "3        ANHEUSER BUSCH INC     109960.82\n",
      "4        JIM BEAM BRANDS CO      96164.04\n",
      "5    MILLER BREWING COMPANY      87156.44\n",
      "6             CROWN IMPORTS      84437.66\n",
      "7                SAZERAC CO      70414.62\n",
      "8           BACARDI USA INC      66610.23\n",
      "9            THE WINE GROUP      64270.04\n"
     ]
    }
   ],
   "source": [
    "# Pandas version of Question 2: Which suppliers generated the highest total retail sales over time?\n",
    "\n",
    "\n",
    "db_path = '/Users/khanzakirul/Documents/EAS 503/MP2_new/warehouse_sales.db'\n",
    "conn = sqlite3.connect(db_path)\n",
    "\n",
    "# Load the necessary tables\n",
    "sales_df = pd.read_sql_query(\"SELECT * FROM Sales;\", conn)\n",
    "suppliers_df = pd.read_sql_query(\"SELECT * FROM Suppliers;\", conn)\n",
    "\n",
    "# Merge Sales with Suppliers\n",
    "merged_df = sales_df.merge(suppliers_df, on=\"supplier_id\", how=\"left\")\n",
    "\n",
    "# Group and aggregate\n",
    "q2_pandas = (\n",
    "    merged_df\n",
    "    .groupby('supplier_name')['retail_sales']\n",
    "    .sum()\n",
    "    .round(2)\n",
    "    .sort_values(ascending=False)\n",
    "    .reset_index()\n",
    "    .head(10)\n",
    ")\n",
    "\n",
    "# Display result\n",
    "print(\"Pandas result for Question 2: Top 10 Suppliers by Retail Sales (All Time)\")\n",
    "print(q2_pandas)\n",
    "\n",
    "# Close connection\n",
    "conn.close()"
   ]
  },
  {
   "cell_type": "code",
   "execution_count": 11,
   "metadata": {},
   "outputs": [
    {
     "name": "stdout",
     "output_type": "stream",
     "text": [
      "Question 3: Top 10 Months with the Largest Retail vs Warehouse Sales Gap\n",
      "   year  month  total_retail_sales  total_warehouse_sales  sales_gap\n",
      "0  2020      7            91766.60              418320.42 -326553.82\n",
      "1  2017      8            87111.78              382895.69 -295783.91\n",
      "2  2019      5            94921.74              383857.58 -288935.84\n",
      "3  2020      9            80643.26              365417.61 -284774.35\n",
      "4  2019      7            90730.72              375427.48 -284696.76\n",
      "5  2017      6            97357.26              379465.83 -282108.57\n",
      "6  2019      8            90603.58              357517.09 -266913.51\n",
      "7  2019     10            87316.63              350638.03 -263321.40\n",
      "8  2019      6            90821.64              346405.08 -255583.44\n",
      "9  2017     11            98316.19              341440.66 -243124.47\n"
     ]
    }
   ],
   "source": [
    "# Question 3: Which months show the largest gap between retail sales and warehouse sales?\n",
    "\n",
    "\n",
    "db_path = '/Users/khanzakirul/Documents/EAS 503/MP2_new/warehouse_sales.db'\n",
    "conn = sqlite3.connect(db_path)\n",
    "cursor = conn.cursor()\n",
    "\n",
    "# Execute the SQL query\n",
    "cursor.execute(\"\"\"\n",
    "SELECT \n",
    "    year,\n",
    "    month,\n",
    "    ROUND(SUM(retail_sales), 2) AS total_retail_sales,\n",
    "    ROUND(SUM(warehouse_sales), 2) AS total_warehouse_sales,\n",
    "    ROUND(SUM(retail_sales - warehouse_sales), 2) AS sales_gap\n",
    "FROM Sales\n",
    "GROUP BY year, month\n",
    "ORDER BY ABS(sales_gap) DESC\n",
    "LIMIT 10;\n",
    "\"\"\")\n",
    "\n",
    "# Fetch results and convert to DataFrame\n",
    "rows = cursor.fetchall()\n",
    "columns = [desc[0] for desc in cursor.description]\n",
    "q3_result = pd.DataFrame(rows, columns=columns)\n",
    "\n",
    "# Display result\n",
    "print(\"Question 3: Top 10 Months with the Largest Retail vs Warehouse Sales Gap\")\n",
    "print(q3_result)\n",
    "\n",
    "# Close the connection\n",
    "conn.close()"
   ]
  },
  {
   "cell_type": "code",
   "execution_count": 12,
   "metadata": {},
   "outputs": [
    {
     "name": "stdout",
     "output_type": "stream",
     "text": [
      "Pandas result for Question 3: Top 10 Months with the Largest Retail vs Warehouse Sales Gap\n",
      "    year  month  retail_sales  warehouse_sales  sales_gap\n",
      "22  2020      7      91766.60        418320.42 -326553.82\n",
      "2   2017      8      87111.78        382895.69 -295783.91\n",
      "13  2019      5      94921.74        383857.58 -288935.84\n",
      "23  2020      9      80643.26        365417.61 -284774.35\n",
      "15  2019      7      90730.72        375427.48 -284696.76\n",
      "0   2017      6      97357.26        379465.83 -282108.57\n",
      "16  2019      8      90603.58        357517.09 -266913.51\n",
      "18  2019     10      87316.63        350638.03 -263321.40\n",
      "14  2019      6      90821.64        346405.08 -255583.44\n",
      "5   2017     11      98316.19        341440.66 -243124.47\n"
     ]
    }
   ],
   "source": [
    "# Pandas version of Question 3: Which months show the largest gap between retail sales and warehouse sales?\n",
    "\n",
    "\n",
    "db_path = '/Users/khanzakirul/Documents/EAS 503/MP2_new/warehouse_sales.db'\n",
    "conn = sqlite3.connect(db_path)\n",
    "\n",
    "# Load the Sales table into a DataFrame\n",
    "sales_df = pd.read_sql_query(\"SELECT * FROM Sales;\", conn)\n",
    "\n",
    "# Group by year and month and calculate sums\n",
    "q3_pandas = (\n",
    "    sales_df\n",
    "    .groupby(['year', 'month'])[['retail_sales', 'warehouse_sales']]\n",
    "    .sum()\n",
    "    .round(2)\n",
    "    .reset_index()\n",
    ")\n",
    "\n",
    "# Calculate sales gap\n",
    "q3_pandas['sales_gap'] = q3_pandas['retail_sales'] - q3_pandas['warehouse_sales']\n",
    "\n",
    "# Sort by absolute gap\n",
    "q3_pandas = q3_pandas.reindex(q3_pandas['sales_gap'].abs().sort_values(ascending=False).index)\n",
    "\n",
    "# Take top 10\n",
    "q3_pandas_top10 = q3_pandas.head(10)\n",
    "\n",
    "# Display result\n",
    "print(\"Pandas result for Question 3: Top 10 Months with the Largest Retail vs Warehouse Sales Gap\")\n",
    "print(q3_pandas_top10)\n",
    "\n",
    "# Close connection\n",
    "conn.close()\n"
   ]
  },
  {
   "cell_type": "code",
   "execution_count": 13,
   "metadata": {},
   "outputs": [
    {
     "name": "stdout",
     "output_type": "stream",
     "text": [
      "Question 4: Top 10 Underperforming Items with High Warehouse Volume\n",
      "  item_code                    item_description  total_retail_sales  \\\n",
      "0     91545  MILWAUKEE BEST ICE 2/12 CAN - 12OZ                0.00   \n",
      "1     90921        MILLER LITE 18PK LNNR - 12OZ                0.00   \n",
      "2     31126            STEEL RESERVE 12/42OZ NR                1.42   \n",
      "3     92223    STEEL RESERVE 12/24OZ CAN - 24OZ                0.00   \n",
      "4     20090       MODELO ESPECIAL 18PK 12.0Z NR                0.00   \n",
      "5     26145            BUD 18PK 16OZ CAN - 16OZ                0.00   \n",
      "6      7242                   BUD LIGHT 18PK NR                8.00   \n",
      "7     94242     KEYSTONE ICE 12/24OZ CAN - 24OZ                0.00   \n",
      "8     26305             BUD 15/25OZ CANS - 25OZ                0.00   \n",
      "9     30823             NATTY DADDY 15/25OZ CAN                0.00   \n",
      "\n",
      "   total_warehouse_sales  unused_inventory  \n",
      "0               31200.36          31200.36  \n",
      "1               23964.82          23964.82  \n",
      "2               21811.01          21809.59  \n",
      "3               21145.41          21145.41  \n",
      "4               20472.00          20472.00  \n",
      "5               20046.95          20046.95  \n",
      "6               19074.65          19066.65  \n",
      "7               18933.67          18933.67  \n",
      "8               18417.74          18417.74  \n",
      "9               18272.05          18272.05  \n"
     ]
    }
   ],
   "source": [
    "# Question 4: Which items had high warehouse sales but very low retail sales?\n",
    "\n",
    "\n",
    "db_path = '/Users/khanzakirul/Documents/EAS 503/MP2_new/warehouse_sales.db'\n",
    "conn = sqlite3.connect(db_path)\n",
    "cursor = conn.cursor()\n",
    "\n",
    "# Execute the SQL query\n",
    "cursor.execute(\"\"\"\n",
    "SELECT \n",
    "    s.item_code,\n",
    "    s.item_description,\n",
    "    ROUND(SUM(s.retail_sales), 2) AS total_retail_sales,\n",
    "    ROUND(SUM(s.warehouse_sales), 2) AS total_warehouse_sales,\n",
    "    ROUND(SUM(s.warehouse_sales - s.retail_sales), 2) AS unused_inventory\n",
    "FROM Sales s\n",
    "GROUP BY s.item_code, s.item_description\n",
    "HAVING total_retail_sales < 10 AND total_warehouse_sales > 500\n",
    "ORDER BY unused_inventory DESC\n",
    "LIMIT 10;\n",
    "\"\"\")\n",
    "\n",
    "# Fetch results and convert to DataFrame\n",
    "rows = cursor.fetchall()\n",
    "columns = [desc[0] for desc in cursor.description]\n",
    "q4_result = pd.DataFrame(rows, columns=columns)\n",
    "\n",
    "# Display result\n",
    "print(\"Question 4: Top 10 Underperforming Items with High Warehouse Volume\")\n",
    "print(q4_result)\n",
    "\n",
    "# Close connection\n",
    "conn.close()\n"
   ]
  },
  {
   "cell_type": "code",
   "execution_count": 14,
   "metadata": {},
   "outputs": [
    {
     "name": "stdout",
     "output_type": "stream",
     "text": [
      "Pandas result for Question 4: Top 10 Underperforming Items with High Warehouse Volume\n",
      "      item_code                    item_description  retail_sales  \\\n",
      "34604     91545  MILWAUKEE BEST ICE 2/12 CAN - 12OZ          0.00   \n",
      "34575     90921        MILLER LITE 18PK LNNR - 12OZ          0.00   \n",
      "10935     31126            STEEL RESERVE 12/42OZ NR          1.42   \n",
      "34642     92223    STEEL RESERVE 12/24OZ CAN - 24OZ          0.00   \n",
      "3167      20090       MODELO ESPECIAL 18PK 12.0Z NR          0.00   \n",
      "7851      26145            BUD 18PK 16OZ CAN - 16OZ          0.00   \n",
      "31449      7242                   BUD LIGHT 18PK NR          8.00   \n",
      "34749     94242     KEYSTONE ICE 12/24OZ CAN - 24OZ          0.00   \n",
      "7919      26305             BUD 15/25OZ CANS - 25OZ          0.00   \n",
      "10147     30823             NATTY DADDY 15/25OZ CAN          0.00   \n",
      "\n",
      "       warehouse_sales  unused_inventory  \n",
      "34604         31200.36          31200.36  \n",
      "34575         23964.82          23964.82  \n",
      "10935         21811.01          21809.59  \n",
      "34642         21145.41          21145.41  \n",
      "3167          20472.00          20472.00  \n",
      "7851          20046.95          20046.95  \n",
      "31449         19074.65          19066.65  \n",
      "34749         18933.67          18933.67  \n",
      "7919          18417.74          18417.74  \n",
      "10147         18272.05          18272.05  \n"
     ]
    }
   ],
   "source": [
    "# Pandas version of Question 4: Which items had high warehouse sales but very low retail sales?\n",
    "\n",
    "\n",
    "db_path = '/Users/khanzakirul/Documents/EAS 503/MP2_new/warehouse_sales.db'\n",
    "conn = sqlite3.connect(db_path)\n",
    "\n",
    "# Load the Sales table\n",
    "sales_df = pd.read_sql_query(\"SELECT * FROM Sales;\", conn)\n",
    "\n",
    "# Group by item_code and item_description\n",
    "item_sales = (\n",
    "    sales_df\n",
    "    .groupby(['item_code', 'item_description'])[['retail_sales', 'warehouse_sales']]\n",
    "    .sum()\n",
    "    .round(2)\n",
    "    .reset_index()\n",
    ")\n",
    "\n",
    "# Calculate the sales gap\n",
    "item_sales['unused_inventory'] = item_sales['warehouse_sales'] - item_sales['retail_sales']\n",
    "\n",
    "# Filter for underperforming items\n",
    "q4_pandas = (\n",
    "    item_sales[\n",
    "        (item_sales['retail_sales'] < 10) &\n",
    "        (item_sales['warehouse_sales'] > 500)\n",
    "    ]\n",
    "    .sort_values(by='unused_inventory', ascending=False)\n",
    "    .head(10)\n",
    ")\n",
    "\n",
    "# Display result\n",
    "print(\"Pandas result for Question 4: Top 10 Underperforming Items with High Warehouse Volume\")\n",
    "print(q4_pandas)\n",
    "\n",
    "# Close the connection\n",
    "conn.close()\n"
   ]
  },
  {
   "cell_type": "code",
   "execution_count": 15,
   "metadata": {},
   "outputs": [
    {
     "name": "stdout",
     "output_type": "stream",
     "text": [
      "Question 5: Most Profitable Item Type per Year (Highest Retail Sales)\n",
      "   year item_type  total_retail_sales  rank\n",
      "0  2017    LIQUOR           250689.19     1\n",
      "1  2018      WINE            59190.40     1\n",
      "2  2019    LIQUOR           357074.03     1\n",
      "3  2020    LIQUOR           137523.06     1\n"
     ]
    }
   ],
   "source": [
    "# Question 5: Which item type generated the highest total retail sales in each year?\n",
    "\n",
    "# Connect to the database\n",
    "db_path = '/Users/khanzakirul/Documents/EAS 503/MP2_new/warehouse_sales.db'\n",
    "conn = sqlite3.connect(db_path)\n",
    "cursor = conn.cursor()\n",
    "\n",
    "# Execute the SQL query with joins and rank logic\n",
    "cursor.execute(\"\"\"\n",
    "WITH yearly_sales_by_type AS (\n",
    "    SELECT \n",
    "        s.year,\n",
    "        it.item_type,\n",
    "        ROUND(SUM(s.retail_sales), 2) AS total_retail_sales\n",
    "    FROM Sales s\n",
    "    JOIN Items i ON s.item_code = i.item_code AND s.item_description = i.item_description\n",
    "    JOIN ItemTypes it ON i.type_id = it.type_id\n",
    "    GROUP BY s.year, it.item_type\n",
    ")\n",
    "\n",
    "SELECT *\n",
    "FROM (\n",
    "    SELECT *,\n",
    "           RANK() OVER (PARTITION BY year ORDER BY total_retail_sales DESC) AS rank\n",
    "    FROM yearly_sales_by_type\n",
    ")\n",
    "WHERE rank = 1;\n",
    "\"\"\")\n",
    "\n",
    "# Fetch and load to DataFrame\n",
    "rows = cursor.fetchall()\n",
    "columns = [desc[0] for desc in cursor.description]\n",
    "q5_result = pd.DataFrame(rows, columns=columns)\n",
    "\n",
    "# Display result\n",
    "print(\"Question 5: Most Profitable Item Type per Year (Highest Retail Sales)\")\n",
    "print(q5_result)\n",
    "\n",
    "# Close connection\n",
    "conn.close()\n"
   ]
  },
  {
   "cell_type": "code",
   "execution_count": 16,
   "metadata": {},
   "outputs": [
    {
     "name": "stdout",
     "output_type": "stream",
     "text": [
      "Pandas result for Question 5: Most Profitable Item Type per Year (Highest Retail Sales)\n",
      "    year item_type  retail_sales  rank\n",
      "3   2017    LIQUOR     250689.19   1.0\n",
      "15  2018      WINE      59190.40   1.0\n",
      "19  2019    LIQUOR     357074.03   1.0\n",
      "27  2020    LIQUOR     137523.06   1.0\n"
     ]
    }
   ],
   "source": [
    "# Pandas version of Question 5: Which item type generated the highest total retail sales in each year?\n",
    "\n",
    "db_path = '/Users/khanzakirul/Documents/EAS 503/MP2_new/warehouse_sales.db'\n",
    "conn = sqlite3.connect(db_path)\n",
    "\n",
    "# Load required tables\n",
    "sales_df = pd.read_sql_query(\"SELECT * FROM Sales;\", conn)\n",
    "items_df = pd.read_sql_query(\"SELECT * FROM Items;\", conn)\n",
    "itemtypes_df = pd.read_sql_query(\"SELECT * FROM ItemTypes;\", conn)\n",
    "\n",
    "# Merge: Sales → Items → ItemTypes\n",
    "merged_df = (\n",
    "    sales_df\n",
    "    .merge(items_df, on=['item_code', 'item_description'], how='left')\n",
    "    .merge(itemtypes_df, on='type_id', how='left')\n",
    ")\n",
    "\n",
    "# Group by year and item_type, aggregate retail sales\n",
    "grouped = (\n",
    "    merged_df\n",
    "    .groupby(['year', 'item_type'])['retail_sales']\n",
    "    .sum()\n",
    "    .reset_index()\n",
    "    .round(2)\n",
    ")\n",
    "\n",
    "# Rank by year\n",
    "grouped['rank'] = grouped.groupby('year')['retail_sales'].rank(method='dense', ascending=False)\n",
    "\n",
    "# Filter top-ranked item types per year\n",
    "q5_pandas = grouped[grouped['rank'] == 1].sort_values('year')\n",
    "\n",
    "# Display result\n",
    "print(\"Pandas result for Question 5: Most Profitable Item Type per Year (Highest Retail Sales)\")\n",
    "print(q5_pandas)\n",
    "\n",
    "# Close connection\n",
    "conn.close()\n"
   ]
  }
 ],
 "metadata": {
  "kernelspec": {
   "display_name": "Python 3",
   "language": "python",
   "name": "python3"
  },
  "language_info": {
   "codemirror_mode": {
    "name": "ipython",
    "version": 3
   },
   "file_extension": ".py",
   "mimetype": "text/x-python",
   "name": "python",
   "nbconvert_exporter": "python",
   "pygments_lexer": "ipython3",
   "version": "3.12.1"
  },
  "orig_nbformat": 4
 },
 "nbformat": 4,
 "nbformat_minor": 2
}
